{
 "cells": [
  {
   "cell_type": "code",
   "execution_count": null,
   "metadata": {},
   "outputs": [],
   "source": [
    "import sqlite3\n",
    "import pandas as pd\n",
    "\n",
    "# Connect to the database\n",
    "conn = sqlite3.connect('chinook.db')+\n",
    "# Read customers table into DataFrame\n",
    "customers_df = pd.read_sql_query(\"SELECT * FROM customers\", conn)\n",
    "\n",
    "# Display first 10 rows\n",
    "print(customers_df.head(10))\n",
    "\n",
    "# Close the connection\n",
    "conn.close()"
   ]
  },
  {
   "cell_type": "code",
   "execution_count": null,
   "metadata": {},
   "outputs": [],
   "source": [
    "# Load JSON file\n",
    "iris_df = pd.read_json('iris.json')\n",
    "\n",
    "# Show shape and column names\n",
    "print(\"Shape of iris dataset:\", iris_df.shape)\n",
    "print(\"Column names:\", iris_df.columns.tolist())"
   ]
  },
  {
   "cell_type": "code",
   "execution_count": null,
   "metadata": {},
   "outputs": [],
   "source": [
    "# Load Excel file\n",
    "titanic_df = pd.read_excel('titanic.xlsx')\n",
    "\n",
    "# Display first 5 rows\n",
    "print(titanic_df.head())"
   ]
  },
  {
   "cell_type": "code",
   "execution_count": null,
   "metadata": {},
   "outputs": [],
   "source": [
    "# Read Parquet file\n",
    "flights_df = pd.read_parquet('flights.parquet')\n",
    "\n",
    "# Summarize with info\n",
    "print(flights_df.info())"
   ]
  },
  {
   "cell_type": "code",
   "execution_count": null,
   "metadata": {},
   "outputs": [],
   "source": [
    "# Load CSV file\n",
    "movie_df = pd.read_csv('movie.csv')\n",
    "\n",
    "# Display random sample of 10 rows\n",
    "print(movie_df.sample(10))"
   ]
  },
  {
   "cell_type": "markdown",
   "metadata": {},
   "source": [
    "part 2"
   ]
  },
  {
   "cell_type": "code",
   "execution_count": null,
   "metadata": {},
   "outputs": [],
   "source": [
    "# Rename columns to lowercase\n",
    "iris_df.columns = iris_df.columns.str.lower()\n",
    "\n",
    "# Select only sepal_length and sepal_width\n",
    "sepal_df = iris_df[['sepal_length', 'sepal_width']]\n",
    "print(sepal_df.head())"
   ]
  },
  {
   "cell_type": "code",
   "execution_count": null,
   "metadata": {},
   "outputs": [],
   "source": [
    "# Filter rows where age > 30\n",
    "over_30 = titanic_df[titanic_df['Age'] > 30]\n",
    "print(over_30.head())\n",
    "\n",
    "# Count number of male and female passengers\n",
    "gender_counts = titanic_df['Sex'].value_counts()\n",
    "print(gender_counts)"
   ]
  },
  {
   "cell_type": "code",
   "execution_count": null,
   "metadata": {},
   "outputs": [],
   "source": [
    "# Extract origin, dest, and carrier columns\n",
    "flight_subset = flights_df[['origin', 'dest', 'carrier']]\n",
    "print(flight_subset.head())\n",
    "\n",
    "# Find number of unique destinations\n",
    "unique_dests = flights_df['dest'].nunique()\n",
    "print(\"Number of unique destinations:\", unique_dests)"
   ]
  },
  {
   "cell_type": "code",
   "execution_count": null,
   "metadata": {},
   "outputs": [],
   "source": [
    "# Filter rows where duration > 120 minutes\n",
    "long_movies = movie_df[movie_df['duration'] > 120]\n",
    "\n",
    "# Sort by director_facebook_likes in descending order\n",
    "sorted_long_movies = long_movies.sort_values('director_facebook_likes', ascending=False)\n",
    "print(sorted_long_movies.head())"
   ]
  },
  {
   "cell_type": "markdown",
   "metadata": {},
   "source": [
    "Part 3"
   ]
  },
  {
   "cell_type": "code",
   "execution_count": null,
   "metadata": {},
   "outputs": [],
   "source": [
    "# Calculate mean, median, and std for numerical columns\n",
    "print(\"Mean values:\\n\", iris_df.select_dtypes(include='number').mean())\n",
    "print(\"\\nMedian values:\\n\", iris_df.select_dtypes(include='number').median())\n",
    "print(\"\\nStandard deviation:\\n\", iris_df.select_dtypes(include='number').std())"
   ]
  },
  {
   "cell_type": "code",
   "execution_count": null,
   "metadata": {},
   "outputs": [],
   "source": [
    "# Find min, max, and sum of passenger ages\n",
    "print(\"Minimum age:\", titanic_df['Age'].min())\n",
    "print(\"Maximum age:\", titanic_df['Age'].max())\n",
    "print(\"Sum of ages:\", titanic_df['Age'].sum())"
   ]
  },
  {
   "cell_type": "code",
   "execution_count": null,
   "metadata": {},
   "outputs": [],
   "source": [
    "# Identify director with highest total director_facebook_likes\n",
    "top_director = movie_df.groupby('director_name')['director_facebook_likes'].sum().idxmax()\n",
    "print(\"Director with highest total likes:\", top_director)\n",
    "\n",
    "# Find the 5 longest movies and their directors\n",
    "longest_movies = movie_df.nlargest(5, 'duration')[['movie_title', 'director_name', 'duration']]\n",
    "print(\"\\n5 longest movies:\")\n",
    "print(longest_movies)"
   ]
  },
  {
   "cell_type": "code",
   "execution_count": null,
   "metadata": {},
   "outputs": [],
   "source": [
    "# Check for missing values\n",
    "print(\"Missing values per column:\")\n",
    "print(flights_df.isnull().sum())\n",
    "\n",
    "# Fill missing values in a numerical column with mean\n",
    "# Example: filling 'dep_delay' column\n",
    "mean_dep_delay = flights_df['dep_delay'].mean()\n",
    "flights_df['dep_delay'] = flights_df['dep_delay'].fillna(mean_dep_delay)\n",
    "print(\"\\nAfter filling missing values:\")\n",
    "print(flights_df['dep_delay'].isnull().sum())"
   ]
  }
 ],
 "metadata": {
  "language_info": {
   "name": "python"
  }
 },
 "nbformat": 4,
 "nbformat_minor": 2
}
