{
 "cells": [
  {
   "cell_type": "code",
   "execution_count": 5,
   "metadata": {},
   "outputs": [
    {
     "name": "stdout",
     "output_type": "stream",
     "text": [
      "16214.0\n"
     ]
    }
   ],
   "source": [
    "def convert_cel_to_far():\n",
    "    temperature = float(input('write temperature '))\n",
    "    f = temperature * 9/5 + 32\n",
    "    return f\n",
    "print(convert_cel_to_far() )"
   ]
  },
  {
   "cell_type": "code",
   "execution_count": 14,
   "metadata": {},
   "outputs": [
    {
     "name": "stdout",
     "output_type": "stream",
     "text": [
      "192.2\n"
     ]
    }
   ],
   "source": [
    "def convert_cel_to_far():\n",
    "    temperature = float(input('Write temperature in Celsius: '))\n",
    "    ft = temperature * 9/5 + 32\n",
    "    return ft\n",
    "\n",
    "print(convert_cel_to_far())"
   ]
  },
  {
   "cell_type": "code",
   "execution_count": null,
   "metadata": {},
   "outputs": [
    {
     "name": "stdout",
     "output_type": "stream",
     "text": [
      "358.8888888888889\n"
     ]
    }
   ],
   "source": [
    "def convert_far_to_cel():\n",
    "    temp = float(input('Write temperature in Fahrenheit: '))\n",
    "    t = (temp-32)*5/9\n",
    "    return t\n",
    "\n",
    "print(convert_far_to_cel())"
   ]
  },
  {
   "cell_type": "code",
   "execution_count": 15,
   "metadata": {},
   "outputs": [
    {
     "name": "stdout",
     "output_type": "stream",
     "text": [
      "Year 1: $592.96\n",
      "Year 2: $646.33\n",
      "Year 3: $704.50\n",
      "Year 4: $767.90\n",
      "Year 5: $837.01\n",
      "Year 6: $912.34\n",
      "Year 7: $994.45\n",
      "Year 8: $1083.95\n",
      "Year 9: $1181.51\n",
      "Year 10: $1287.85\n",
      "Year 11: $1403.75\n",
      "Year 12: $1530.09\n"
     ]
    }
   ],
   "source": [
    "def invest(amount, rate, years):\n",
    "    for years in range(1, years + 1) :\n",
    "        amount*= (1 + rate/ 100)\n",
    "        print(f'Year {years}: ${amount:.2f}')\n",
    "    return amount\n",
    "investt = invest(544 ,9 , 12)"
   ]
  },
  {
   "cell_type": "code",
   "execution_count": 16,
   "metadata": {},
   "outputs": [
    {
     "name": "stdout",
     "output_type": "stream",
     "text": [
      "Initial investment: $1000.00\n",
      "Annual rate of return: 5%\n",
      "Year 1: $1050.00\n",
      "Year 2: $1102.50\n",
      "Year 3: $1157.62\n",
      "Year 4: $1215.51\n",
      "Year 5: $1276.28\n",
      "Year 6: $1340.10\n"
     ]
    }
   ],
   "source": [
    "def invest(amount, rate, years):\n",
    "    print(f\"Initial investment: ${amount:.2f}\")\n",
    "    print(f\"Annual rate of return: {rate}%\")\n",
    "    \n",
    "    for year in range(1, years + 1):\n",
    "        amount *= (1 + rate/100)  # Compound the interest\n",
    "        print(f'Year {year}: ${amount:.2f}')\n",
    "    \n",
    "    return amount  # Return the final amount\n",
    "\n",
    "# Example usage:\n",
    "initial = 1000  # $1000 initial investment\n",
    "annual_rate = 5  # 5% annual return\n",
    "duration = 6  # 6 years\n",
    "\n",
    "final_amount = invest(initial, annual_rate, duration)"
   ]
  },
  {
   "cell_type": "code",
   "execution_count": 4,
   "metadata": {},
   "outputs": [
    {
     "name": "stdout",
     "output_type": "stream",
     "text": [
      "Year 1: $105.00\n",
      "Year 2: $110.25\n",
      "Year 3: $115.76\n",
      "Year 4: $121.55\n",
      "Year 5: $127.63\n",
      "Year 6: $134.01\n"
     ]
    }
   ],
   "source": [
    "def invest(amount, rate, years):\n",
    "    for year in range(1,years+1):\n",
    "        amount*=(1+rate/100)\n",
    "        print(f\"Year {year}: ${amount:.2f}\")\n",
    "    return amount\n",
    "initial= 100\n",
    "a1= 5\n",
    "a2 = 6\n",
    "final_amountt = invest(initial, a1, a2)"
   ]
  },
  {
   "cell_type": "code",
   "execution_count": 10,
   "metadata": {},
   "outputs": [
    {
     "name": "stdout",
     "output_type": "stream",
     "text": [
      "1 is a factor of 35\n",
      "5 is a factor of 35\n",
      "7 is a factor of 35\n",
      "35 is a factor of 35\n"
     ]
    }
   ],
   "source": [
    "def positive_integer(factor):\n",
    "    factor = int(input(\" Write positive integer: \"))\n",
    "    for i in range(1 , factor + 1):\n",
    "        if factor % i == 0:\n",
    "            print(f\"{i} is a factor of {factor}\")\n",
    "    return positive_integer\n",
    "t = positive_integer(5)"
   ]
  },
  {
   "cell_type": "code",
   "execution_count": 10,
   "metadata": {},
   "outputs": [
    {
     "name": "stdout",
     "output_type": "stream",
     "text": [
      "[{'name': 'bbbb', 'students': 4444, 'fees': 555}]\n"
     ]
    }
   ],
   "source": [
    "def programm():\n",
    "        universities = []\n",
    "        while True:\n",
    "                names= input(\"  the name of a university: \")\n",
    "                if names.lower() == 'quit':\n",
    "                        break\n",
    "                try :\n",
    "                        number_t = int(input(\" the total number of enrolled students: \"))\n",
    "                        fees_tuti= int(input(\" the annual tuition fees: \"))\n",
    "                except ValueError:\n",
    "                        print(\"Please enter valid numbers for students and fees\")\n",
    "                        continue       \n",
    "                university_info = {\n",
    "                        'name': names,\n",
    "                        'students': number_t,\n",
    "                        'fees': fees_tuti\n",
    "                        }\n",
    "                universities.append(university_info)\n",
    "                return universities\n",
    "a = programm()\n",
    "print(a)\n"
   ]
  },
  {
   "cell_type": "code",
   "execution_count": 2,
   "metadata": {},
   "outputs": [
    {
     "name": "stdout",
     "output_type": "stream",
     "text": [
      "[{'name': 'aaaaa', 'students': 45, 'fees': 56.0}]\n"
     ]
    }
   ],
   "source": [
    "def programm():\n",
    "    universities = []\n",
    "    \n",
    "    while True:\n",
    "        name = input(\"Enter the name of a university (or 'quit' to finish): \")\n",
    "        if name.lower() == 'quit':\n",
    "            break\n",
    "            \n",
    "        try:\n",
    "            num_students = int(input(\"Enter the total number of enrolled students: \"))\n",
    "            tuition_fees = float(input(\"Enter the annual tuition fees: \"))\n",
    "        except ValueError:\n",
    "            print(\"Please enter valid numbers for students and fees\")\n",
    "            continue\n",
    "            \n",
    "        university_info = {\n",
    "            'name': name,\n",
    "            'students': num_students,\n",
    "            'fees': tuition_fees\n",
    "        }\n",
    "        universities.append(university_info)\n",
    "    \n",
    "    return universities\n",
    "\n",
    "# Usage\n",
    "universities_list = programm()\n",
    "print(universities_list)"
   ]
  },
  {
   "cell_type": "code",
   "execution_count": null,
   "metadata": {},
   "outputs": [],
   "source": [
    "def universities():\n",
    "    section1 = input(\"Enter the name of a university: \")\n",
    "    section2 = input(\"Enter the total number of enrolled students: \")\n",
    "    section3 = input(\"Enter the annual tuition fees: \")\n",
    "    return (section1, section2, section3)\n",
    "\n",
    "# Call the function and print the result\n",
    "uni_info = universities()\n",
    "print(uni_info)"
   ]
  }
 ],
 "metadata": {
  "kernelspec": {
   "display_name": "Python 3",
   "language": "python",
   "name": "python3"
  },
  "language_info": {
   "codemirror_mode": {
    "name": "ipython",
    "version": 3
   },
   "file_extension": ".py",
   "mimetype": "text/x-python",
   "name": "python",
   "nbconvert_exporter": "python",
   "pygments_lexer": "ipython3",
   "version": "3.10.11"
  }
 },
 "nbformat": 4,
 "nbformat_minor": 2
}
