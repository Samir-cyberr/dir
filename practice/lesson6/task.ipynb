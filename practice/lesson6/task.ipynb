{
 "cells": [
  {
   "cell_type": "code",
   "execution_count": 7,
   "metadata": {},
   "outputs": [
    {
     "data": {
      "text/plain": [
       "16"
      ]
     },
     "execution_count": 7,
     "metadata": {},
     "output_type": "execute_result"
    }
   ],
   "source": [
    "def function():\n",
    "    while True:\n",
    "        number = 9\n",
    "        if number == '':\n",
    "            break\n",
    "        try:\n",
    "            number = int( input( \" write your number: \"))\n",
    "            denominator = int(input(\" write denominator: \")) \n",
    "        except ValueError:\n",
    "            print(\" Please enter valid value\")\n",
    "            continue\n",
    "        result = number // denominator \n",
    "        return result\n",
    "function()  \n",
    "            "
   ]
  },
  {
   "cell_type": "code",
   "execution_count": 1,
   "metadata": {},
   "outputs": [
    {
     "name": "stdout",
     "output_type": "stream",
     "text": [
      "Before dividing\n",
      "Division result: 6.428571428571429\n",
      "Error: Please enter valid integers!\n",
      "Division result: 0.6292134831460674\n",
      "After dividing\n"
     ]
    }
   ],
   "source": [
    "def check(func):\n",
    "    def wrapper():\n",
    "        print(\"Before dividing\")\n",
    "        func()\n",
    "        print(\"After dividing\")\n",
    "    return wrapper\n",
    "\n",
    "@check\n",
    "def divide_numbers():\n",
    "    while True:\n",
    "        try:\n",
    "            number = int(input(\"Write your number (0 to exit): \"))\n",
    "            if number == 0:\n",
    "                break\n",
    "                \n",
    "            denominator = int(input(\"Write denominator: \"))\n",
    "            \n",
    "            if denominator == 0:\n",
    "                print(\"Error: Denominator cannot be zero!\")\n",
    "                continue\n",
    "                \n",
    "            result = number / denominator\n",
    "            if number % denominator == 0:\n",
    "                print(f\"Exact division result: {int(result)}\")\n",
    "            else:\n",
    "                print(f\"Division result: {result}\")\n",
    "                \n",
    "        except ValueError:\n",
    "            print(\"Error: Please enter valid integers!\")\n",
    "        except Exception as e:\n",
    "            print(f\"An error occurred: {e}\")\n",
    "\n",
    "divide_numbers()"
   ]
  },
  {
   "cell_type": "code",
   "execution_count": 2,
   "metadata": {},
   "outputs": [
    {
     "name": "stdout",
     "output_type": "stream",
     "text": [
      "3.0\n",
      "Denominator can't be zero\n"
     ]
    }
   ],
   "source": [
    "def check(func):\n",
    "    def wrapper(a, b):\n",
    "        if b == 0:\n",
    "            return \"Denominator can't be zero\"\n",
    "        return func(a, b)\n",
    "    return wrapper\n",
    "\n",
    "@check\n",
    "def div(a, b):\n",
    "    return a / b\n",
    "\n",
    "# Test cases\n",
    "print(div(6, 2))  # Output: 3.0\n",
    "print(div(6, 0))  # Output: Denominator can't be zero"
   ]
  },
  {
   "cell_type": "code",
   "execution_count": null,
   "metadata": {},
   "outputs": [],
   "source": []
  }
 ],
 "metadata": {
  "kernelspec": {
   "display_name": "Python 3",
   "language": "python",
   "name": "python3"
  },
  "language_info": {
   "codemirror_mode": {
    "name": "ipython",
    "version": 3
   },
   "file_extension": ".py",
   "mimetype": "text/x-python",
   "name": "python",
   "nbconvert_exporter": "python",
   "pygments_lexer": "ipython3",
   "version": "3.10.11"
  }
 },
 "nbformat": 4,
 "nbformat_minor": 2
}
