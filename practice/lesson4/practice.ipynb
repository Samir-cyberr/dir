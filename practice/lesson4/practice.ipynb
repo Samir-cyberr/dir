{
 "cells": [
  {
   "cell_type": "code",
   "execution_count": null,
   "metadata": {},
   "outputs": [],
   "source": [
    "#0\n",
    "a=int(input('please write number'))\n",
    "s = 0\n",
    "for i in range(1,a+1,1):\n",
    "    if s<a*(a+1)//2:\n",
    "        s+=i\n",
    "    else:\n",
    "        print(s)"
   ]
  },
  {
   "cell_type": "code",
   "execution_count": null,
   "metadata": {},
   "outputs": [
    {
     "name": "stdout",
     "output_type": "stream",
     "text": [
      "276\n"
     ]
    }
   ],
   "source": [
    "a=int(input('please write number'))\n",
    "s = 0\n",
    "for i in range(1,a+1,1):\n",
    "    s+=i\n",
    "print(s)"
   ]
  },
  {
   "cell_type": "markdown",
   "metadata": {},
   "source": [
    "1. Return uncommon elements of lists. Order of elements does not matter.\n",
    "input:\n",
    "    list1 = [1, 1, 2]\n",
    "    list2 = [2, 3, 4]\n",
    "output: [1, 1, 3, 4]"
   ]
  },
  {
   "cell_type": "code",
   "execution_count": 18,
   "metadata": {},
   "outputs": [
    {
     "name": "stdout",
     "output_type": "stream",
     "text": [
      "[2, 2, 5]\n"
     ]
    }
   ],
   "source": [
    "#1\n",
    "list1 = [1, 1, 2, 3, 4, 2]\n",
    "list2 = [1, 3, 4, 5]\n",
    "common_elements = set(list1) & set(list2)\n",
    "list1=[x for x in list1 if x not in common_elements]\n",
    "list2=[x for x in list2 if x not in common_elements]\n",
    "print(list1+list2)"
   ]
  },
  {
   "cell_type": "markdown",
   "metadata": {},
   "source": [
    "Print the square of each number which is less than n on a separate line.\n",
    "input: n = 5\n",
    "output:\n",
    "    1\n",
    "    4\n",
    "    9\n",
    "    16"
   ]
  },
  {
   "cell_type": "code",
   "execution_count": 25,
   "metadata": {},
   "outputs": [
    {
     "name": "stdout",
     "output_type": "stream",
     "text": [
      "1\n",
      "4\n",
      "9\n",
      "16\n",
      "25\n"
     ]
    }
   ],
   "source": [
    "n=int(input('write any number'))\n",
    "for i in range(1,n):\n",
    "    if n**2 > i**2:\n",
    "        b=i**2\n",
    "    print(b)"
   ]
  },
  {
   "cell_type": "markdown",
   "metadata": {},
   "source": [
    "txt nomli string saqlovchi o'zgaruvchi berilgan. txtdagi har uchinchi belgidan keyin pastgi chiziqcha (underscore) qo'yilsin. Agar belgi unli harf yoki orqasidan ostki chiziqcha qo'yilgan harf bo'lsa, ostki chiziqcha keyingi harfdan keyin qo'yilsin. Agar belgi satrdagi oxirgi belgi bo'lsa chiziqcha qo'yilmasin.\n",
    "\n",
    "input: hello\n",
    "output: hel_lo\n",
    "input: assalom\n",
    "output: ass_alom\n",
    "input: abcabcdabcdeabcdefabcdefg\n",
    "output: abc_abcd_abcdeab_cdef_abcdefg"
   ]
  },
  {
   "cell_type": "code",
   "execution_count": 34,
   "metadata": {},
   "outputs": [
    {
     "name": "stdout",
     "output_type": "stream",
     "text": [
      "sdf_ghg_fdsa_sdf_vfd_ksx_ssx_nxs_jsx\n"
     ]
    }
   ],
   "source": [
    "#c=str(input('write any word'))\n",
    "def myfunctiobn(txt:str)->str:\n",
    "    k=[]\n",
    "    kc='aieouAEIOU'\n",
    "    i=0\n",
    "    count=0\n",
    "    while i< len(txt):\n",
    "        k.append(txt[i])\n",
    "        count+=1\n",
    "        \n",
    "        if count ==3:\n",
    "            if i+1<len(txt) and (txt[i] in kc or (i+1 < len(txt) and txt[i+1] in kc)):\n",
    "                k.append(txt[i+1])\n",
    "                i+=1\n",
    "            if i+1<len(txt):\n",
    "                k.append('_')\n",
    "            count = 0\n",
    "        i+=1\n",
    "    return \"\".join(k)\n",
    "\n",
    "txt = input(\"Enter text: \")\n",
    "print(myfunctiobn(txt))"
   ]
  },
  {
   "cell_type": "code",
   "execution_count": null,
   "metadata": {},
   "outputs": [
    {
     "name": "stdout",
     "output_type": "stream",
     "text": [
      "g\n"
     ]
    }
   ],
   "source": [
    "c=list('sdfghgfdsasdfvfdksxssxnxsjsx')\n",
    "print(c[5])"
   ]
  }
 ],
 "metadata": {
  "kernelspec": {
   "display_name": "Python 3",
   "language": "python",
   "name": "python3"
  },
  "language_info": {
   "codemirror_mode": {
    "name": "ipython",
    "version": 3
   },
   "file_extension": ".py",
   "mimetype": "text/x-python",
   "name": "python",
   "nbconvert_exporter": "python",
   "pygments_lexer": "ipython3",
   "version": "3.10.11"
  }
 },
 "nbformat": 4,
 "nbformat_minor": 2
}
