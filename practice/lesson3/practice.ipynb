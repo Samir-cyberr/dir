{
 "cells": [
  {
   "cell_type": "code",
   "execution_count": null,
   "metadata": {},
   "outputs": [
    {
     "name": "stdout",
     "output_type": "stream",
     "text": [
      "It exists\n"
     ]
    }
   ],
   "source": [
    "#5\n",
    "list = [6, 2, 3, 4] \n",
    "givenEl = 3\n",
    "if givenEl in list:\n",
    "    print(\"It exists\")\n",
    "else:\n",
    "    print(\"It does not exist\")"
   ]
  },
  {
   "cell_type": "code",
   "execution_count": 16,
   "metadata": {},
   "outputs": [
    {
     "name": "stdout",
     "output_type": "stream",
     "text": [
      "1\n"
     ]
    }
   ],
   "source": [
    "#6\n",
    "if list:\n",
    "    print(list[0])\n",
    "else :\n",
    "    print('This list is empty')\n"
   ]
  },
  {
   "cell_type": "code",
   "execution_count": null,
   "metadata": {},
   "outputs": [],
   "source": [
    "#7\n",
    "if list:\n",
    "    print(list[-1])\n",
    "else:\n",
    "    print('this list is empty')"
   ]
  },
  {
   "cell_type": "code",
   "execution_count": null,
   "metadata": {},
   "outputs": [
    {
     "data": {
      "text/plain": [
       "[1, 2, 3]"
      ]
     },
     "execution_count": 24,
     "metadata": {},
     "output_type": "execute_result"
    }
   ],
   "source": [
    "#8\n",
    "list[:3] #Slice List"
   ]
  },
  {
   "cell_type": "code",
   "execution_count": null,
   "metadata": {},
   "outputs": [
    {
     "data": {
      "text/plain": [
       "[4, 3, 2, 1]"
      ]
     },
     "execution_count": 26,
     "metadata": {},
     "output_type": "execute_result"
    }
   ],
   "source": [
    "#9\n",
    "list[::-1] #reverse order\n"
   ]
  },
  {
   "cell_type": "code",
   "execution_count": 8,
   "metadata": {},
   "outputs": [
    {
     "name": "stdout",
     "output_type": "stream",
     "text": [
      "[0, 0, 8, 34, 78]\n"
     ]
    }
   ],
   "source": [
    "#10\n",
    "list1 = [8, 0, 34, 78, 0]\n",
    "list1.sort()  # This sorts the list in-place\n",
    "print(list1)  # Output: [0, 8, 34, 78]"
   ]
  },
  {
   "cell_type": "code",
   "execution_count": 27,
   "metadata": {},
   "outputs": [
    {
     "name": "stdout",
     "output_type": "stream",
     "text": [
      "[1, 2, 3, 4, 5]\n"
     ]
    }
   ],
   "source": [
    "#11\n",
    "original_list = [1, 2, 2, 3, 4, 4, 5]\n",
    "unique_list = list(dict.fromkeys(original_list))\n",
    "print(unique_list)  # Output: [1, 2, 3, 4, 5] (order preserved)"
   ]
  },
  {
   "cell_type": "code",
   "execution_count": 28,
   "metadata": {},
   "outputs": [
    {
     "name": "stdout",
     "output_type": "stream",
     "text": [
      "[1, 2, 2, 3, 4, 4, 5, 89]\n"
     ]
    }
   ],
   "source": [
    "#12\n",
    "original_list.insert(len(original_list),89)\n",
    "print(original_list)"
   ]
  },
  {
   "cell_type": "code",
   "execution_count": 38,
   "metadata": {},
   "outputs": [
    {
     "name": "stdout",
     "output_type": "stream",
     "text": [
      "6\n"
     ]
    }
   ],
   "source": [
    "#13\n",
    "a=original_list.index(5)\n",
    "print(a)"
   ]
  },
  {
   "cell_type": "code",
   "execution_count": 40,
   "metadata": {},
   "outputs": [
    {
     "name": "stdout",
     "output_type": "stream",
     "text": [
      "This list is not empty\n"
     ]
    }
   ],
   "source": [
    "#14\n",
    "if original_list:\n",
    "    print('This list is not empty')\n",
    "else:\n",
    "    print('This list is empty')"
   ]
  },
  {
   "cell_type": "code",
   "execution_count": null,
   "metadata": {},
   "outputs": [
    {
     "name": "stdout",
     "output_type": "stream",
     "text": [
      "4\n"
     ]
    }
   ],
   "source": [
    "#15\n",
    "even_numbers = (3, 6, 7, 3, 6, 2, 1, 8)\n",
    "countt = 0\n",
    "\n",
    "for num in even_numbers:\n",
    "    if num % 2 == 0:\n",
    "        countt += 1\n",
    "\n",
    "print(countt)  # Output: 4"
   ]
  },
  {
   "cell_type": "code",
   "execution_count": null,
   "metadata": {},
   "outputs": [
    {
     "name": "stdout",
     "output_type": "stream",
     "text": [
      "4\n"
     ]
    }
   ],
   "source": [
    "#16\n",
    "counttt= 0\n",
    "for num in even_numbers:\n",
    "    if num % 2 != 0:\n",
    "        counttt += 1\n",
    "print(counttt)"
   ]
  },
  {
   "cell_type": "code",
   "execution_count": 9,
   "metadata": {},
   "outputs": [
    {
     "name": "stdout",
     "output_type": "stream",
     "text": [
      "(3, 5, 6, 4, 1, 7, 8, 9, 47, 83, 94, 85, 40, 10, 12, 11)\n"
     ]
    }
   ],
   "source": [
    "#17\n",
    "list1=(3,5,6,4,1,7,8,9)\n",
    "list2=(47,83,94,85,40,10,12,11)\n",
    "print(list1+list2)"
   ]
  },
  {
   "cell_type": "code",
   "execution_count": null,
   "metadata": {},
   "outputs": [
    {
     "name": "stdout",
     "output_type": "stream",
     "text": [
      "this list not sublist of list1\n"
     ]
    }
   ],
   "source": [
    "#18\n",
    "sublist=(6,4,7)\n",
    "if sublist in list1:\n",
    "    print('This list sublist of list1')\n",
    "else:\n",
    "    print('this list not sublist of list1')"
   ]
  },
  {
   "cell_type": "code",
   "execution_count": 1,
   "metadata": {},
   "outputs": [
    {
     "ename": "NameError",
     "evalue": "name 'replace_element' is not defined",
     "output_type": "error",
     "traceback": [
      "\u001b[1;31m---------------------------------------------------------------------------\u001b[0m",
      "\u001b[1;31mNameError\u001b[0m                                 Traceback (most recent call last)",
      "Cell \u001b[1;32mIn[1], line 3\u001b[0m\n\u001b[0;32m      1\u001b[0m \u001b[38;5;66;03m#19\u001b[39;00m\n\u001b[0;32m      2\u001b[0m my_list \u001b[38;5;241m=\u001b[39m [\u001b[38;5;241m3\u001b[39m, \u001b[38;5;241m5\u001b[39m, \u001b[38;5;241m7\u001b[39m, \u001b[38;5;241m5\u001b[39m, \u001b[38;5;241m9\u001b[39m]\n\u001b[1;32m----> 3\u001b[0m new_list \u001b[38;5;241m=\u001b[39m \u001b[43mreplace_element\u001b[49m(my_list, \u001b[38;5;241m5\u001b[39m, \u001b[38;5;241m99\u001b[39m)\n\u001b[0;32m      4\u001b[0m \u001b[38;5;28mprint\u001b[39m(new_list)  \u001b[38;5;66;03m# Output: [3, 99, 7, 5, 9] (only the first 5 is replaced)\u001b[39;00m\n",
      "\u001b[1;31mNameError\u001b[0m: name 'replace_element' is not defined"
     ]
    }
   ],
   "source": [
    "#19\n",
    "my_list = [3, 5, 7, 5, 9]\n",
    "new_list = replace_element(my_list, 5, 99)\n",
    "print(new_list)  # Output: [3, 99, 7, 5, 9] (only the first 5 is replaced)"
   ]
  },
  {
   "cell_type": "code",
   "execution_count": null,
   "metadata": {},
   "outputs": [],
   "source": [
    "#20\n",
    "def find_second_smallest(lst):\n",
    "    if len(lst) < 2:\n",
    "        return None\n",
    "    \n",
    "    first = second = float('inf')\n",
    "    \n",
    "    for num in lst:\n",
    "        if num < first:\n",
    "            second = first\n",
    "            first = num\n",
    "        elif num < second and num != first:\n",
    "            second = num\n",
    "    \n",
    "    return second if second != float('inf') else None\n",
    "\n"
   ]
  },
  {
   "cell_type": "code",
   "execution_count": 11,
   "metadata": {},
   "outputs": [
    {
     "ename": "SyntaxError",
     "evalue": "invalid syntax (2991440801.py, line 13)",
     "output_type": "error",
     "traceback": [
      "\u001b[1;36m  Cell \u001b[1;32mIn[11], line 13\u001b[1;36m\u001b[0m\n\u001b[1;33m    return second if  # type: ignore\u001b[0m\n\u001b[1;37m                      ^\u001b[0m\n\u001b[1;31mSyntaxError\u001b[0m\u001b[1;31m:\u001b[0m invalid syntax\n"
     ]
    }
   ],
   "source": [
    "#21\n",
    "def find_second_largest(lst):\n",
    "    if len(lst)<2:\n",
    "        return None\n",
    "\n",
    "    first=second=float('inf')\n",
    "    for num in lst :\n",
    "        if num<first:\n",
    "            second=first\n",
    "            first=num\n",
    "        elif num < second and num !=first:\n",
    "            second: num\n",
    "    return second if  # type: ignore\n"
   ]
  },
  {
   "cell_type": "code",
   "execution_count": 18,
   "metadata": {},
   "outputs": [
    {
     "name": "stdout",
     "output_type": "stream",
     "text": [
      "[6, 4, 8, 12]\n"
     ]
    }
   ],
   "source": [
    "#22\n",
    "list3=(3,5,6,4,1,7,8,9,12)\n",
    "even_list=[]\n",
    "for i in list3:\n",
    "    if i % 2 ==0:\n",
    "        even_list+=(i,)\n",
    "print(even_list)\n"
   ]
  },
  {
   "cell_type": "code",
   "execution_count": 20,
   "metadata": {},
   "outputs": [
    {
     "name": "stdout",
     "output_type": "stream",
     "text": [
      "[3, 5, 1, 7, 9]\n"
     ]
    }
   ],
   "source": [
    "#23\n",
    "list3=(3,5,6,4,1,7,8,9,12)\n",
    "even_list=[]\n",
    "for i in list3:\n",
    "    if i % 2 !=0:\n",
    "        even_list+=(i,)\n",
    "print(even_list)\n"
   ]
  },
  {
   "cell_type": "code",
   "execution_count": 21,
   "metadata": {},
   "outputs": [
    {
     "name": "stdout",
     "output_type": "stream",
     "text": [
      "9\n"
     ]
    }
   ],
   "source": [
    "#24\n",
    "print(len(list3))"
   ]
  },
  {
   "cell_type": "code",
   "execution_count": 33,
   "metadata": {},
   "outputs": [
    {
     "name": "stdout",
     "output_type": "stream",
     "text": [
      "[3, 5, 6, 4, 1, 7, 8, 9, 12]\n"
     ]
    }
   ],
   "source": [
    "#25\n",
    "list3=[3,5,6,4,1,7,8,9,12]\n",
    "k=list3.copy()\n",
    "print(k)\n"
   ]
  },
  {
   "cell_type": "code",
   "execution_count": 53,
   "metadata": {},
   "outputs": [
    {
     "name": "stdout",
     "output_type": "stream",
     "text": [
      "6\n"
     ]
    }
   ],
   "source": [
    "#26\n",
    "list3 = [3, 5, 6, 4, 1, 7, 8, 9, 12]\n",
    "list4=sorted(set(list3))\n",
    "c = len(list4)  # Get the length of the list\n",
    "\n",
    "if c % 2 != 0:  # If length is odd\n",
    "    d = c // 2  # Integer division to get middle index\n",
    "    print(list4[d])  # Print the middle element\n",
    "else:  # If length is even\n",
    "    d = c // 2\n",
    "    print(list4[d-1:d+1])  # Print two middle elements"
   ]
  },
  {
   "cell_type": "code",
   "execution_count": 59,
   "metadata": {},
   "outputs": [
    {
     "ename": "SyntaxError",
     "evalue": "closing parenthesis ')' does not match opening parenthesis '[' (4247593282.py, line 3)",
     "output_type": "error",
     "traceback": [
      "\u001b[1;36m  Cell \u001b[1;32mIn[59], line 3\u001b[1;36m\u001b[0m\n\u001b[1;33m    print(max(list3[2:4))\u001b[0m\n\u001b[1;37m                       ^\u001b[0m\n\u001b[1;31mSyntaxError\u001b[0m\u001b[1;31m:\u001b[0m closing parenthesis ')' does not match opening parenthesis '['\n"
     ]
    }
   ],
   "source": [
    "#27\n",
    "list3 = [3, 5, 6, 4, 1, 7, 8, 9, 12]\n",
    "print(max(list3[2:4))"
   ]
  },
  {
   "cell_type": "code",
   "execution_count": null,
   "metadata": {},
   "outputs": [],
   "source": [
    "#28"
   ]
  },
  {
   "cell_type": "code",
   "execution_count": null,
   "metadata": {},
   "outputs": [
    {
     "ename": "AttributeError",
     "evalue": "'list' object has no attribute 'cont'",
     "output_type": "error",
     "traceback": [
      "\u001b[1;31m---------------------------------------------------------------------------\u001b[0m",
      "\u001b[1;31mAttributeError\u001b[0m                            Traceback (most recent call last)",
      "Cell \u001b[1;32mIn[95], line 3\u001b[0m\n\u001b[0;32m      1\u001b[0m \u001b[38;5;66;03m#29\u001b[39;00m\n\u001b[0;32m      2\u001b[0m list3 \u001b[38;5;241m=\u001b[39m [\u001b[38;5;241m3\u001b[39m, \u001b[38;5;241m5\u001b[39m, \u001b[38;5;241m6\u001b[39m, \u001b[38;5;241m4\u001b[39m, \u001b[38;5;241m1\u001b[39m, \u001b[38;5;241m7\u001b[39m, \u001b[38;5;241m8\u001b[39m, \u001b[38;5;241m9\u001b[39m, \u001b[38;5;241m12\u001b[39m]\n\u001b[1;32m----> 3\u001b[0m \u001b[38;5;28mprint\u001b[39m(\u001b[43mlist3\u001b[49m\u001b[38;5;241;43m.\u001b[39;49m\u001b[43mcont\u001b[49m[\u001b[38;5;241m7\u001b[39m])\n\u001b[0;32m      4\u001b[0m l\u001b[38;5;241m=\u001b[39mlist3[\u001b[38;5;241m5\u001b[39m]\n\u001b[0;32m      5\u001b[0m \u001b[38;5;28;01mif\u001b[39;00m l\u001b[38;5;241m<\u001b[39m\u001b[38;5;241m=\u001b[39m\u001b[38;5;28mlen\u001b[39m(list3):\n",
      "\u001b[1;31mAttributeError\u001b[0m: 'list' object has no attribute 'cont'"
     ]
    }
   ],
   "source": [
    "#29\n",
    "list3 = [3, 5, 6, 4, 1, 7, 8, 9, 12]\n",
    "l=list3[5]\n",
    "if l<=len(list3):\n",
    "    ll=list3.remove(l)\n",
    "    print(list3)\n",
    "else:\n",
    "    None"
   ]
  },
  {
   "cell_type": "code",
   "execution_count": 91,
   "metadata": {},
   "outputs": [
    {
     "name": "stdout",
     "output_type": "stream",
     "text": [
      "False\n"
     ]
    }
   ],
   "source": [
    "#30\n",
    "if list3==sorted(set(list3)):\n",
    "    print(True)\n",
    "else:\n",
    "    print(False)"
   ]
  },
  {
   "cell_type": "code",
   "execution_count": 103,
   "metadata": {},
   "outputs": [
    {
     "name": "stdout",
     "output_type": "stream",
     "text": [
      "[1, 1, 1, 1, 2, 2, 2, 2, 3, 3, 3, 3]\n"
     ]
    }
   ],
   "source": [
    "#31\n",
    "def repeat_elements(lst, n):\n",
    "    \"\"\"Return a new list with each element repeated n times\"\"\"\n",
    "    return [item for item in lst for _ in range(n)]\n",
    "original_list = [1, 2, 3]\n",
    "repeated_list = repeat_elements(original_list, 4)\n",
    "print(repeated_list)\n"
   ]
  },
  {
   "cell_type": "code",
   "execution_count": 104,
   "metadata": {},
   "outputs": [
    {
     "name": "stdout",
     "output_type": "stream",
     "text": [
      "[3, 5, 6, 4, 1, 7, 8, 9, 12, 1, 3, 4, 5, 6, 7, 8, 9, 12]\n"
     ]
    }
   ],
   "source": [
    "#32\n",
    "print(list3+list4)"
   ]
  },
  {
   "cell_type": "code",
   "execution_count": 2,
   "metadata": {},
   "outputs": [],
   "source": [
    "#33\n"
   ]
  },
  {
   "cell_type": "code",
   "execution_count": null,
   "metadata": {},
   "outputs": [],
   "source": [
    "#34"
   ]
  },
  {
   "cell_type": "code",
   "execution_count": null,
   "metadata": {},
   "outputs": [],
   "source": [
    "#35"
   ]
  },
  {
   "cell_type": "code",
   "execution_count": null,
   "metadata": {},
   "outputs": [],
   "source": [
    "#36"
   ]
  },
  {
   "cell_type": "code",
   "execution_count": null,
   "metadata": {},
   "outputs": [],
   "source": [
    "#37"
   ]
  },
  {
   "cell_type": "code",
   "execution_count": null,
   "metadata": {},
   "outputs": [],
   "source": [
    "#38"
   ]
  },
  {
   "cell_type": "code",
   "execution_count": null,
   "metadata": {},
   "outputs": [],
   "source": [
    "#39"
   ]
  },
  {
   "cell_type": "code",
   "execution_count": null,
   "metadata": {},
   "outputs": [],
   "source": [
    "#40"
   ]
  }
 ],
 "metadata": {
  "kernelspec": {
   "display_name": "Python 3",
   "language": "python",
   "name": "python3"
  },
  "language_info": {
   "codemirror_mode": {
    "name": "ipython",
    "version": 3
   },
   "file_extension": ".py",
   "mimetype": "text/x-python",
   "name": "python",
   "nbconvert_exporter": "python",
   "pygments_lexer": "ipython3",
   "version": "3.10.11"
  }
 },
 "nbformat": 4,
 "nbformat_minor": 2
}
