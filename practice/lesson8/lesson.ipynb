{
 "cells": [
  {
   "cell_type": "markdown",
   "metadata": {},
   "source": [
    "Classes\n",
    "Public and private attributes\n",
    "Inheritance\n",
    "Property\n",
    "classmethod, staticmethod\n",
    "Public and Private Attributes"
   ]
  },
  {
   "cell_type": "code",
   "execution_count": null,
   "metadata": {},
   "outputs": [],
   "source": [
    "class Animal:\n",
    "    def __init__(self, do , eat, placed , number):\n",
    "        self.do = do\n",
    "        self.eat = eat\n",
    "        self.placed = placed\n",
    "        self.number = number\n",
    "    \n",
    "    def __str__(self):\n",
    "        return f\" {self} can {do}, \""
   ]
  }
 ],
 "metadata": {
  "kernelspec": {
   "display_name": "Python 3",
   "language": "python",
   "name": "python3"
  },
  "language_info": {
   "codemirror_mode": {
    "name": "ipython",
    "version": 3
   },
   "file_extension": ".py",
   "mimetype": "text/x-python",
   "name": "python",
   "nbconvert_exporter": "python",
   "pygments_lexer": "ipython3",
   "version": "3.10.11"
  }
 },
 "nbformat": 4,
 "nbformat_minor": 2
}
