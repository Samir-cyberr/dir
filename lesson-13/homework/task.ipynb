{
 "cells": [
  {
   "cell_type": "code",
   "execution_count": 2,
   "metadata": {},
   "outputs": [],
   "source": [
    "import numpy as np"
   ]
  },
  {
   "cell_type": "code",
   "execution_count": 3,
   "metadata": {},
   "outputs": [
    {
     "name": "stdout",
     "output_type": "stream",
     "text": [
      "1. Vector from 10 to 49:\n",
      " [10 11 12 13 14 15 16 17 18 19 20 21 22 23 24 25 26 27 28 29 30 31 32 33\n",
      " 34 35 36 37 38 39 40 41 42 43 44 45 46 47 48 49]\n"
     ]
    }
   ],
   "source": [
    "#1\n",
    "vector_10_to_49 = np.arange(10, 50)\n",
    "print(\"1. Vector from 10 to 49:\\n\", vector_10_to_49)\n"
   ]
  },
  {
   "cell_type": "code",
   "execution_count": 4,
   "metadata": {},
   "outputs": [
    {
     "name": "stdout",
     "output_type": "stream",
     "text": [
      "\n",
      "2. 3x3 matrix from 0 to 8:\n",
      " [[0 1 2]\n",
      " [3 4 5]\n",
      " [6 7 8]]\n"
     ]
    }
   ],
   "source": [
    "# 2. Create a 3x3 matrix with values ranging from 0 to 8.\n",
    "matrix_3x3 = np.arange(0, 9).reshape(3, 3)\n",
    "print(\"\\n2. 3x3 matrix from 0 to 8:\\n\", matrix_3x3)"
   ]
  },
  {
   "cell_type": "code",
   "execution_count": 5,
   "metadata": {},
   "outputs": [
    {
     "name": "stdout",
     "output_type": "stream",
     "text": [
      "\n",
      "3. 3x3 identity matrix:\n",
      " [[1. 0. 0.]\n",
      " [0. 1. 0.]\n",
      " [0. 0. 1.]]\n"
     ]
    }
   ],
   "source": [
    "# 3. Create a 3x3 identity matrix.\n",
    "identity_3x3 = np.eye(3)\n",
    "print(\"\\n3. 3x3 identity matrix:\\n\", identity_3x3)"
   ]
  },
  {
   "cell_type": "code",
   "execution_count": 6,
   "metadata": {},
   "outputs": [
    {
     "name": "stdout",
     "output_type": "stream",
     "text": [
      "\n",
      "4. 3x3x3 random array:\n",
      " [[[0.29619825 0.72131981 0.81148406]\n",
      "  [0.34710135 0.50994738 0.18028098]\n",
      "  [0.23689776 0.50384019 0.87131921]]\n",
      "\n",
      " [[0.21017321 0.51962671 0.79418577]\n",
      "  [0.92271446 0.0912369  0.82324077]\n",
      "  [0.72432268 0.2491671  0.0498    ]]\n",
      "\n",
      " [[0.72203706 0.11563814 0.56093578]\n",
      "  [0.92004274 0.77627359 0.38547771]\n",
      "  [0.7901064  0.59139138 0.72084245]]]\n"
     ]
    }
   ],
   "source": [
    "# 4. Create a 3x3x3 array with random values.\n",
    "random_3x3x3 = np.random.rand(3, 3, 3)\n",
    "print(\"\\n4. 3x3x3 random array:\\n\", random_3x3x3)\n"
   ]
  },
  {
   "cell_type": "code",
   "execution_count": 7,
   "metadata": {},
   "outputs": [
    {
     "name": "stdout",
     "output_type": "stream",
     "text": [
      "\n",
      "5. 10x10 random array min and max:\n",
      "Min: 0.003371075015898506 \n",
      "Max: 0.9979445143933692\n"
     ]
    }
   ],
   "source": [
    "# 5. Create a 10x10 array with random values and find the minimum and maximum values.\n",
    "random_10x10 = np.random.rand(10, 10)\n",
    "min_val = np.min(random_10x10)\n",
    "max_val = np.max(random_10x10)\n",
    "print(\"\\n5. 10x10 random array min and max:\\nMin:\", min_val, \"\\nMax:\", max_val)"
   ]
  },
  {
   "cell_type": "code",
   "execution_count": 8,
   "metadata": {},
   "outputs": [
    {
     "name": "stdout",
     "output_type": "stream",
     "text": [
      "\n",
      "6. Mean of random vector of size 30: 0.48568539651192494\n"
     ]
    }
   ],
   "source": [
    "# 6. Create a random vector of size 30 and find the mean value.\n",
    "random_vector_30 = np.random.rand(30)\n",
    "mean_val = np.mean(random_vector_30)\n",
    "print(\"\\n6. Mean of random vector of size 30:\", mean_val)"
   ]
  },
  {
   "cell_type": "code",
   "execution_count": 9,
   "metadata": {},
   "outputs": [
    {
     "name": "stdout",
     "output_type": "stream",
     "text": [
      "\n",
      "7. Normalized 5x5 matrix:\n",
      " [[0.10739311 0.48800213 0.7096143  0.7737369  0.69414816]\n",
      " [0.47319177 0.08936945 0.6299188  0.42062943 0.97217085]\n",
      " [0.         0.17445611 0.87829401 0.04748291 0.98528535]\n",
      " [1.         0.95442302 0.34841047 0.4455176  0.69773578]\n",
      " [0.96685021 0.60759163 0.21341199 0.82596634 0.9690444 ]]\n"
     ]
    }
   ],
   "source": [
    "# 7. Normalize a 5x5 random matrix.\n",
    "random_5x5 = np.random.rand(5, 5)\n",
    "normalized_5x5 = (random_5x5 - np.min(random_5x5)) / (np.max(random_5x5) - np.min(random_5x5))\n",
    "print(\"\\n7. Normalized 5x5 matrix:\\n\", normalized_5x5)"
   ]
  },
  {
   "cell_type": "code",
   "execution_count": 10,
   "metadata": {},
   "outputs": [
    {
     "name": "stdout",
     "output_type": "stream",
     "text": [
      "\n",
      "8. Matrix product of 5x3 and 3x2 matrices:\n",
      " [[0.39292463 1.21206353]\n",
      " [0.74987083 1.44140973]\n",
      " [0.87695919 1.13827332]\n",
      " [0.84156512 1.5641631 ]\n",
      " [0.82732004 1.84524273]]\n"
     ]
    }
   ],
   "source": [
    "# 8. Multiply a 5x3 matrix by a 3x2 matrix (real matrix product).\n",
    "matrix_5x3 = np.random.rand(5, 3)\n",
    "matrix_3x2 = np.random.rand(3, 2)\n",
    "product_5x3_3x2 = np.dot(matrix_5x3, matrix_3x2)\n",
    "print(\"\\n8. Matrix product of 5x3 and 3x2 matrices:\\n\", product_5x3_3x2)\n"
   ]
  },
  {
   "cell_type": "code",
   "execution_count": 11,
   "metadata": {},
   "outputs": [
    {
     "name": "stdout",
     "output_type": "stream",
     "text": [
      "\n",
      "9. Dot product of two 3x3 matrices:\n",
      " [[0.26960234 0.56974046 0.34290124]\n",
      " [0.81961594 1.32922019 1.13611494]\n",
      " [0.94073115 1.42446302 1.14980577]]\n"
     ]
    }
   ],
   "source": [
    "# 9. Create two 3x3 matrices and compute their dot product.\n",
    "matrix_A = np.random.rand(3, 3)\n",
    "matrix_B = np.random.rand(3, 3)\n",
    "dot_product_3x3 = np.dot(matrix_A, matrix_B)\n",
    "print(\"\\n9. Dot product of two 3x3 matrices:\\n\", dot_product_3x3)"
   ]
  },
  {
   "cell_type": "code",
   "execution_count": 12,
   "metadata": {},
   "outputs": [
    {
     "name": "stdout",
     "output_type": "stream",
     "text": [
      "\n",
      "10. Transpose of 4x4 matrix:\n",
      " [[0.64726322 0.5813546  0.10951524 0.18659159]\n",
      " [0.99146766 0.90863608 0.76517147 0.13979804]\n",
      " [0.57665073 0.27466578 0.34427938 0.23120767]\n",
      " [0.3856844  0.30344885 0.31281345 0.56318508]]\n"
     ]
    }
   ],
   "source": [
    "# 10. Given a 4x4 matrix, find its transpose.\n",
    "matrix_4x4 = np.random.rand(4, 4)\n",
    "transpose_4x4 = matrix_4x4.T\n",
    "print(\"\\n10. Transpose of 4x4 matrix:\\n\", transpose_4x4)"
   ]
  },
  {
   "cell_type": "code",
   "execution_count": 13,
   "metadata": {},
   "outputs": [
    {
     "name": "stdout",
     "output_type": "stream",
     "text": [
      "\n",
      "11. Determinant of 3x3 matrix: -0.15382857375835166\n"
     ]
    }
   ],
   "source": [
    "# 11. Create a 3x3 matrix and calculate its determinant.\n",
    "matrix_3x3_det = np.random.rand(3, 3)\n",
    "determinant = np.linalg.det(matrix_3x3_det)\n",
    "print(\"\\n11. Determinant of 3x3 matrix:\", determinant)"
   ]
  },
  {
   "cell_type": "code",
   "execution_count": 14,
   "metadata": {},
   "outputs": [
    {
     "name": "stdout",
     "output_type": "stream",
     "text": [
      "\n",
      "12. Matrix product of A (3x4) and B (4x3):\n",
      " [[1.36667136 1.47272172 0.98911714]\n",
      " [0.95410882 0.81586045 0.36931941]\n",
      " [1.64483537 1.51588844 0.71514472]]\n"
     ]
    }
   ],
   "source": [
    "# 12. Create two matrices A (3x4) and B (4x3), and compute the matrix product A dot B.\n",
    "matrix_A_3x4 = np.random.rand(3, 4)\n",
    "matrix_B_4x3 = np.random.rand(4, 3)\n",
    "product_A_B = np.dot(matrix_A_3x4, matrix_B_4x3)\n",
    "print(\"\\n12. Matrix product of A (3x4) and B (4x3):\\n\", product_A_B)"
   ]
  },
  {
   "cell_type": "code",
   "execution_count": 15,
   "metadata": {},
   "outputs": [
    {
     "name": "stdout",
     "output_type": "stream",
     "text": [
      "\n",
      "13. Matrix-vector product:\n",
      " [[1.02739244]\n",
      " [0.18602595]\n",
      " [0.9465982 ]]\n"
     ]
    }
   ],
   "source": [
    "# 13. Create a 3x3 random matrix and a 3-element column vector. Compute the matrix-vector product.\n",
    "matrix_3x3_mv = np.random.rand(3, 3)\n",
    "vector_3 = np.random.rand(3, 1)\n",
    "product_matrix_vector = np.dot(matrix_3x3_mv, vector_3)\n",
    "print(\"\\n13. Matrix-vector product:\\n\", product_matrix_vector)"
   ]
  },
  {
   "cell_type": "code",
   "execution_count": 16,
   "metadata": {},
   "outputs": [
    {
     "name": "stdout",
     "output_type": "stream",
     "text": [
      "\n",
      "14. Solution to Ax = b:\n",
      " [[-0.6630847 ]\n",
      " [-0.26538121]\n",
      " [ 2.29073651]]\n"
     ]
    }
   ],
   "source": [
    "# 14. Solve the linear system Ax = b where A is a 3x3 matrix, and b is a 3x1 column vector.\n",
    "A = np.random.rand(3, 3)\n",
    "b = np.random.rand(3, 1)\n",
    "x = np.linalg.solve(A, b)\n",
    "print(\"\\n14. Solution to Ax = b:\\n\", x)"
   ]
  },
  {
   "cell_type": "code",
   "execution_count": 17,
   "metadata": {},
   "outputs": [
    {
     "name": "stdout",
     "output_type": "stream",
     "text": [
      "\n",
      "15. Row-wise sums: [2.4282526  2.3941933  2.01880938 1.91638159 2.96130252] \n",
      "Column-wise sums: [3.4203107  2.37495051 1.82157582 2.31620485 1.78589751]\n"
     ]
    }
   ],
   "source": [
    "# 15. Given a 5x5 matrix, find the row-wise and column-wise sums.\n",
    "matrix_5x5_sums = np.random.rand(5, 5)\n",
    "row_sums = np.sum(matrix_5x5_sums, axis=1)\n",
    "col_sums = np.sum(matrix_5x5_sums, axis=0)\n",
    "print(\"\\n15. Row-wise sums:\", row_sums, \"\\nColumn-wise sums:\", col_sums)"
   ]
  }
 ],
 "metadata": {
  "kernelspec": {
   "display_name": "Python 3",
   "language": "python",
   "name": "python3"
  },
  "language_info": {
   "codemirror_mode": {
    "name": "ipython",
    "version": 3
   },
   "file_extension": ".py",
   "mimetype": "text/x-python",
   "name": "python",
   "nbconvert_exporter": "python",
   "pygments_lexer": "ipython3",
   "version": "3.10.11"
  }
 },
 "nbformat": 4,
 "nbformat_minor": 2
}
