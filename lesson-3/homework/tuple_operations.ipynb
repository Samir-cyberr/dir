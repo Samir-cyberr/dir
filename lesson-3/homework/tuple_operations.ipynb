{
 "cells": [
  {
   "cell_type": "code",
   "execution_count": null,
   "metadata": {},
   "outputs": [],
   "source": [
    "#1\n",
    "def count_occurrences_tuple(tpl, element):\n",
    "    return tpl.count(element)\n",
    "\n"
   ]
  },
  {
   "cell_type": "code",
   "execution_count": null,
   "metadata": {},
   "outputs": [],
   "source": [
    "#2\n",
    "def max_element_tuple(tpl):\n",
    "    return max(tpl) if tpl else None\n"
   ]
  },
  {
   "cell_type": "code",
   "execution_count": null,
   "metadata": {},
   "outputs": [],
   "source": [
    "#3\n",
    "def min_element_tuple(tpl):\n",
    "    return min(tpl) if tpl else None\n"
   ]
  },
  {
   "cell_type": "code",
   "execution_count": null,
   "metadata": {},
   "outputs": [],
   "source": [
    "#4\n",
    "def check_element_tuple(tpl, element):\n",
    "    return element in tpl"
   ]
  },
  {
   "cell_type": "code",
   "execution_count": null,
   "metadata": {},
   "outputs": [],
   "source": [
    "#5\n",
    "def first_element_tuple(tpl):\n",
    "    return tpl[0] if tpl else None\n",
    "\n"
   ]
  },
  {
   "cell_type": "code",
   "execution_count": null,
   "metadata": {},
   "outputs": [],
   "source": [
    "#6\n",
    "def last_element_tuple(tpl):\n",
    "    return tpl[-1] if tpl else None\n",
    "\n"
   ]
  },
  {
   "cell_type": "code",
   "execution_count": null,
   "metadata": {},
   "outputs": [],
   "source": [
    "#7\n",
    "def tuple_length(tpl):\n",
    "    return len(tpl)"
   ]
  },
  {
   "cell_type": "code",
   "execution_count": null,
   "metadata": {},
   "outputs": [],
   "source": [
    "#8\n",
    "def slice_tuple(tpl):\n",
    "    return tpl[:3]\n"
   ]
  },
  {
   "cell_type": "code",
   "execution_count": null,
   "metadata": {},
   "outputs": [],
   "source": [
    "#9\n",
    "def concatenate_tuples(tpl1, tpl2):\n",
    "    return tpl1 + tpl2"
   ]
  },
  {
   "cell_type": "code",
   "execution_count": null,
   "metadata": {},
   "outputs": [],
   "source": [
    "#10\n",
    "def is_tuple_empty(tpl):\n",
    "    return len(tpl) == 0"
   ]
  },
  {
   "cell_type": "code",
   "execution_count": null,
   "metadata": {},
   "outputs": [],
   "source": [
    "#11\n",
    "def get_all_indices(tpl, element):\n",
    "    return [i for i, x in enumerate(tpl) if x == element]"
   ]
  },
  {
   "cell_type": "code",
   "execution_count": null,
   "metadata": {},
   "outputs": [],
   "source": [
    "#12\n",
    "def find_second_largest(tpl):\n",
    "    unique_sorted = sorted(set(tpl), reverse=True)\n",
    "    return unique_sorted[1] if len(unique_sorted) > 1 else None"
   ]
  },
  {
   "cell_type": "code",
   "execution_count": null,
   "metadata": {},
   "outputs": [],
   "source": [
    "#13\n",
    "def find_second_smallest(tpl):\n",
    "    unique_sorted = sorted(set(tpl))\n",
    "    return unique_sorted[1] if len(unique_sorted) > 1 else None\n",
    "\n"
   ]
  },
  {
   "cell_type": "code",
   "execution_count": null,
   "metadata": {},
   "outputs": [],
   "source": [
    "#14\n",
    "def create_single_element_tuple(element):\n",
    "    return (element,)\n"
   ]
  },
  {
   "cell_type": "code",
   "execution_count": null,
   "metadata": {},
   "outputs": [],
   "source": [
    "#15\n",
    "def convert_list_to_tuple(lst):\n",
    "    return tuple(lst)\n"
   ]
  },
  {
   "cell_type": "code",
   "execution_count": null,
   "metadata": {},
   "outputs": [],
   "source": [
    "#16\n",
    "def is_tuple_sorted(tpl):\n",
    "    return tpl == tuple(sorted(tpl))\n"
   ]
  },
  {
   "cell_type": "code",
   "execution_count": null,
   "metadata": {},
   "outputs": [],
   "source": [
    "#17\n",
    "def max_of_subtuple(tpl, start, end):\n",
    "    return max(tpl[start:end]) if tpl[start:end] else None"
   ]
  },
  {
   "cell_type": "code",
   "execution_count": null,
   "metadata": {},
   "outputs": [],
   "source": [
    "#18\n",
    "def min_of_subtuple(tpl, start, end):\n",
    "    return min(tpl[start:end]) if tpl[start:end] else None\n",
    "\n"
   ]
  },
  {
   "cell_type": "code",
   "execution_count": null,
   "metadata": {},
   "outputs": [],
   "source": [
    "#19\n",
    "def remove_element_by_value(tpl, element):\n",
    "    lst = list(tpl)\n",
    "    if element in lst:\n",
    "        lst.remove(element)\n",
    "    return tuple(lst)\n"
   ]
  },
  {
   "cell_type": "code",
   "execution_count": null,
   "metadata": {},
   "outputs": [],
   "source": [
    "#20\n",
    "def create_nested_tuple(tpl, indices):\n",
    "    return tuple(tuple(tpl[i] for i in idx) for idx in indices)\n"
   ]
  },
  {
   "cell_type": "code",
   "execution_count": null,
   "metadata": {},
   "outputs": [],
   "source": [
    "#21\n",
    "def repeat_elements(tpl, n):\n",
    "    return tuple(x for x in tpl for _ in range(n))"
   ]
  },
  {
   "cell_type": "code",
   "execution_count": null,
   "metadata": {},
   "outputs": [],
   "source": [
    "#22\n",
    "\n",
    "def create_range_tuple(start, end):\n",
    "    return tuple(range(start, end + 1))"
   ]
  },
  {
   "cell_type": "code",
   "execution_count": null,
   "metadata": {},
   "outputs": [],
   "source": [
    "#23\n",
    "def reverse_tuple(tpl):\n",
    "    return tpl[::-1]\n"
   ]
  },
  {
   "cell_type": "code",
   "execution_count": null,
   "metadata": {},
   "outputs": [],
   "source": [
    "#24\n",
    "def is_palindrome_tuple(tpl):\n",
    "    return tpl == tpl[::-1]\n"
   ]
  },
  {
   "cell_type": "code",
   "execution_count": null,
   "metadata": {},
   "outputs": [],
   "source": [
    "#25\n",
    "def get_unique_elements(tpl):\n",
    "    seen = set()\n",
    "    return tuple(x for x in tpl if not (x in seen or seen.add(x)))\n"
   ]
  }
 ],
 "metadata": {
  "language_info": {
   "name": "python"
  }
 },
 "nbformat": 4,
 "nbformat_minor": 2
}
